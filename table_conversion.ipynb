{
 "cells": [
  {
   "cell_type": "markdown",
   "id": "ed47d736-726d-4493-9fe8-17a6dd625da7",
   "metadata": {
    "tags": []
   },
   "source": [
    "## IMPORT LIBRARIES"
   ]
  },
  {
   "cell_type": "code",
   "execution_count": 2,
   "id": "ba3413e0-0985-4971-a426-6016bad2735e",
   "metadata": {},
   "outputs": [],
   "source": [
    "import pandas as pd"
   ]
  },
  {
   "cell_type": "markdown",
   "id": "9378c1a3-85c0-4b90-b33e-b35865a89a4a",
   "metadata": {
    "tags": []
   },
   "source": [
    "## READ FILES"
   ]
  },
  {
   "cell_type": "code",
   "execution_count": 3,
   "id": "0bba8a84-79a4-40c2-8196-8eb5e3cdfeef",
   "metadata": {},
   "outputs": [],
   "source": [
    "tt_df = pd.read_csv(r'DB/DB/totransform.csv')"
   ]
  },
  {
   "cell_type": "markdown",
   "id": "f25218da-4521-4bce-9e8e-58baf30c4bda",
   "metadata": {
    "tags": []
   },
   "source": [
    "## EXPLORE DATA"
   ]
  },
  {
   "cell_type": "code",
   "execution_count": 4,
   "id": "65ca5e11-b21c-4e77-beb3-da689c2e71e8",
   "metadata": {},
   "outputs": [
    {
     "data": {
      "text/html": [
       "<div>\n",
       "<style scoped>\n",
       "    .dataframe tbody tr th:only-of-type {\n",
       "        vertical-align: middle;\n",
       "    }\n",
       "\n",
       "    .dataframe tbody tr th {\n",
       "        vertical-align: top;\n",
       "    }\n",
       "\n",
       "    .dataframe thead th {\n",
       "        text-align: right;\n",
       "    }\n",
       "</style>\n",
       "<table border=\"1\" class=\"dataframe\">\n",
       "  <thead>\n",
       "    <tr style=\"text-align: right;\">\n",
       "      <th></th>\n",
       "      <th>bgg_id</th>\n",
       "      <th>game_type</th>\n",
       "      <th>designer</th>\n",
       "      <th>artist</th>\n",
       "      <th>publisher</th>\n",
       "      <th>category</th>\n",
       "      <th>mechanic</th>\n",
       "      <th>family</th>\n",
       "      <th>implementation</th>\n",
       "      <th>integration</th>\n",
       "    </tr>\n",
       "  </thead>\n",
       "  <tbody>\n",
       "    <tr>\n",
       "      <th>0</th>\n",
       "      <td>1</td>\n",
       "      <td>5497</td>\n",
       "      <td>1</td>\n",
       "      <td>12517,4959</td>\n",
       "      <td>133,2,24883,2726,15108,39249,11652,5382,8147</td>\n",
       "      <td>1021,1026,1001</td>\n",
       "      <td>2916,2080,2012,2072,2040,2020</td>\n",
       "      <td>10643,34116,91</td>\n",
       "      <td>NaN</td>\n",
       "      <td>NaN</td>\n",
       "    </tr>\n",
       "    <tr>\n",
       "      <th>1</th>\n",
       "      <td>2</td>\n",
       "      <td>5497</td>\n",
       "      <td>8384</td>\n",
       "      <td>12424</td>\n",
       "      <td>64,20</td>\n",
       "      <td>1002,1010</td>\n",
       "      <td>2009</td>\n",
       "      <td>73592,7005,75454</td>\n",
       "      <td>2174</td>\n",
       "      <td>NaN</td>\n",
       "    </tr>\n",
       "    <tr>\n",
       "      <th>2</th>\n",
       "      <td>3</td>\n",
       "      <td>5497</td>\n",
       "      <td>2</td>\n",
       "      <td>11883</td>\n",
       "      <td>17,133,267,29,7340,7335,41,2973,4617,1391,8291...</td>\n",
       "      <td>1009,1035</td>\n",
       "      <td>2080,2040,2026,2846,2004,2002</td>\n",
       "      <td>64960,10634,70711,60111,42,28732</td>\n",
       "      <td>NaN</td>\n",
       "      <td>NaN</td>\n",
       "    </tr>\n",
       "    <tr>\n",
       "      <th>3</th>\n",
       "      <td>4</td>\n",
       "      <td>5497</td>\n",
       "      <td>8008</td>\n",
       "      <td>2277</td>\n",
       "      <td>37</td>\n",
       "      <td>1050</td>\n",
       "      <td>2001,2080,2012,2004</td>\n",
       "      <td>64229,6471,11505</td>\n",
       "      <td>NaN</td>\n",
       "      <td>NaN</td>\n",
       "    </tr>\n",
       "    <tr>\n",
       "      <th>4</th>\n",
       "      <td>5</td>\n",
       "      <td>5497</td>\n",
       "      <td>4</td>\n",
       "      <td>12658,18317</td>\n",
       "      <td>92,5,4871,3082,858,2962,28072,5392,4668,38,462...</td>\n",
       "      <td>1021,1086</td>\n",
       "      <td>2040,2910,2900,2940,2005,2002,2874</td>\n",
       "      <td>78494,4891</td>\n",
       "      <td>NaN</td>\n",
       "      <td>NaN</td>\n",
       "    </tr>\n",
       "  </tbody>\n",
       "</table>\n",
       "</div>"
      ],
      "text/plain": [
       "   bgg_id game_type designer       artist  \\\n",
       "0       1      5497        1   12517,4959   \n",
       "1       2      5497     8384        12424   \n",
       "2       3      5497        2        11883   \n",
       "3       4      5497     8008         2277   \n",
       "4       5      5497        4  12658,18317   \n",
       "\n",
       "                                           publisher        category  \\\n",
       "0       133,2,24883,2726,15108,39249,11652,5382,8147  1021,1026,1001   \n",
       "1                                              64,20       1002,1010   \n",
       "2  17,133,267,29,7340,7335,41,2973,4617,1391,8291...       1009,1035   \n",
       "3                                                 37            1050   \n",
       "4  92,5,4871,3082,858,2962,28072,5392,4668,38,462...       1021,1086   \n",
       "\n",
       "                             mechanic                            family  \\\n",
       "0       2916,2080,2012,2072,2040,2020                    10643,34116,91   \n",
       "1                                2009                  73592,7005,75454   \n",
       "2       2080,2040,2026,2846,2004,2002  64960,10634,70711,60111,42,28732   \n",
       "3                 2001,2080,2012,2004                  64229,6471,11505   \n",
       "4  2040,2910,2900,2940,2005,2002,2874                        78494,4891   \n",
       "\n",
       "  implementation integration  \n",
       "0            NaN         NaN  \n",
       "1           2174         NaN  \n",
       "2            NaN         NaN  \n",
       "3            NaN         NaN  \n",
       "4            NaN         NaN  "
      ]
     },
     "execution_count": 4,
     "metadata": {},
     "output_type": "execute_result"
    }
   ],
   "source": [
    "tt_df.head()"
   ]
  },
  {
   "cell_type": "markdown",
   "id": "8201e333-0f2e-4424-a374-2c46a4328edd",
   "metadata": {},
   "source": [
    "## FUNCTION: CONVERT INTO TABLES"
   ]
  },
  {
   "cell_type": "code",
   "execution_count": 5,
   "id": "3b6e80b5-a97e-4f6a-b3a4-fad4f7e4c5f5",
   "metadata": {},
   "outputs": [],
   "source": [
    "def make_ConTable(df = tt_df, id ='bgg_id', col='category'):                         #   df: Dataframe, id: Name of Column with Id, col: Name of Column with list\n",
    "    df=df.loc[df[col].notnull()]                                                        #   ignore NaN\n",
    "    answer = pd.DataFrame(columns=[id,f'{col}_id'])                                     #   Define Output\n",
    "    for i, row in df.iterrows():                                                        #   for each row\n",
    "        for entry in str(row[col]).split(\",\"):                                          #   for each entry in List-Column\n",
    "            new_row = {id:row[id], f'{col}_id':int(entry)}                              #   Define Row Entry\n",
    "            answer = pd.concat([answer, pd.DataFrame([new_row])], ignore_index=True)    #   Add new row to output\n",
    "    return(answer)                                                                      #   Return Output"
   ]
  },
  {
   "cell_type": "markdown",
   "id": "185ce5c5-43ab-4999-8ee4-214352f3095e",
   "metadata": {},
   "source": [
    "## CONVERSION"
   ]
  },
  {
   "cell_type": "code",
   "execution_count": 6,
   "id": "e99737be-36e9-4961-8bed-08ffbe5fd649",
   "metadata": {},
   "outputs": [],
   "source": [
    "game_type_df=make_ConTable(tt_df, 'bgg_id', 'game_type')"
   ]
  },
  {
   "cell_type": "code",
   "execution_count": 17,
   "id": "842d74b9-3ee7-4f1d-b359-8de3929a0ffa",
   "metadata": {},
   "outputs": [],
   "source": [
    "designer_df=make_ConTable(tt_df, 'bgg_id', 'designer')"
   ]
  },
  {
   "cell_type": "code",
   "execution_count": 18,
   "id": "e2784f80-a157-44aa-9cb2-d402396ec9e2",
   "metadata": {},
   "outputs": [],
   "source": [
    "artist_df=make_ConTable(tt_df, 'bgg_id', 'artist')"
   ]
  },
  {
   "cell_type": "code",
   "execution_count": 20,
   "id": "2fbc5bfd-5763-42af-8438-5b6e7912acfc",
   "metadata": {},
   "outputs": [],
   "source": [
    "publisher_df=make_ConTable(tt_df, 'bgg_id', 'publisher')"
   ]
  },
  {
   "cell_type": "code",
   "execution_count": 21,
   "id": "7e978238-96c1-4069-9034-60c959976f21",
   "metadata": {},
   "outputs": [],
   "source": [
    "category_df=make_ConTable(tt_df, 'bgg_id', 'category')"
   ]
  },
  {
   "cell_type": "code",
   "execution_count": 22,
   "id": "601f7d4a-8a1d-426e-986d-fcd5e9879a2e",
   "metadata": {},
   "outputs": [],
   "source": [
    "mechanic_df=make_ConTable(tt_df, 'bgg_id', 'mechanic')"
   ]
  },
  {
   "cell_type": "code",
   "execution_count": 23,
   "id": "bbb7aacf-0c7f-4716-8345-329c44d8e5a5",
   "metadata": {},
   "outputs": [],
   "source": [
    "family_df=make_ConTable(tt_df, 'bgg_id', 'family')"
   ]
  },
  {
   "cell_type": "markdown",
   "id": "c3060b52-e901-427d-a601-ad140c432736",
   "metadata": {},
   "source": [
    "## EXPORT TABLES"
   ]
  },
  {
   "cell_type": "code",
   "execution_count": 25,
   "id": "4176a8a2-e0f6-4593-bbf0-1a5a99330364",
   "metadata": {},
   "outputs": [],
   "source": [
    "game_type_df.to_csv(\"DB/DB/game_type_df.csv\", index = False)\n",
    "designer_df.to_csv(\"DB/DB/designer_df.csv\", index = False)\n",
    "artist_df.to_csv(\"DB/DB/artist_df.csv\", index = False)\n",
    "publisher_df.to_csv(\"DB/DB/publisher_df.csv\", index = False)\n",
    "category_df.to_csv(\"DB/DB/category_df.csv\", index = False)\n",
    "mechanic_df.to_csv(\"DB/DB/mechanic_df.csv\", index = False)\n",
    "family_df.to_csv(\"DB/DB/family_df.csv\", index = False)"
   ]
  }
 ],
 "metadata": {
  "kernelspec": {
   "display_name": "Python 3 (ipykernel)",
   "language": "python",
   "name": "python3"
  },
  "language_info": {
   "codemirror_mode": {
    "name": "ipython",
    "version": 3
   },
   "file_extension": ".py",
   "mimetype": "text/x-python",
   "name": "python",
   "nbconvert_exporter": "python",
   "pygments_lexer": "ipython3",
   "version": "3.10.9"
  }
 },
 "nbformat": 4,
 "nbformat_minor": 5
}
