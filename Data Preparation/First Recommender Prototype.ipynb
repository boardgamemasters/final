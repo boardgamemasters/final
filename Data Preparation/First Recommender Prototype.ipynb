{
 "cells": [
  {
   "cell_type": "code",
   "execution_count": 447,
   "metadata": {},
   "outputs": [],
   "source": [
    "import numpy as np\n",
    "import pandas as pd\n",
    "from sklearn.metrics.pairwise import cosine_similarity\n",
    "\n",
    "import warnings\n",
    "warnings.filterwarnings('ignore')\n",
    "\n",
    "from datetime import timedelta, date, datetime\n",
    "from dateutil.relativedelta import relativedelta\n",
    "\n",
    "import sys\n",
    "\n",
    "from bs4 import BeautifulSoup\n",
    "import requests\n",
    "import pandas as pd\n",
    "import warnings\n",
    "warnings.simplefilter(action='ignore', category=FutureWarning)\n",
    "\n",
    "\n",
    "from sklearn.model_selection import train_test_split\n",
    "from sklearn.metrics import r2_score, mean_absolute_error\n",
    "import matplotlib.pyplot as plt\n",
    "import seaborn as sns"
   ]
  },
  {
   "cell_type": "markdown",
   "metadata": {},
   "source": [
    "Import Datasets"
   ]
  },
  {
   "cell_type": "code",
   "execution_count": 448,
   "metadata": {},
   "outputs": [],
   "source": [
    "rating_df = pd.read_csv(\"../data/custom/final_ratings.csv\")\n",
    "games_df = pd.read_csv(\"../data/custom/game_learn_df.csv\")\n",
    "games_df.rename(columns={'BGGId':'bgg_id'},inplace=True)\n",
    "rating_df.rename(columns={'BGGId':'bgg_id'},inplace=True)"
   ]
  },
  {
   "cell_type": "markdown",
   "metadata": {},
   "source": [
    "### Predefined Prep Functions"
   ]
  },
  {
   "cell_type": "code",
   "execution_count": 449,
   "metadata": {},
   "outputs": [],
   "source": [
    "def UserFrame(rating, games, UName):\n",
    "    u_rating = rating[rating['Username'] == UName]\n",
    "    combined_df = u_rating.merge(games, on='bgg_id')\n",
    "    return(combined_df)"
   ]
  },
  {
   "cell_type": "code",
   "execution_count": 450,
   "metadata": {},
   "outputs": [],
   "source": [
    "def minbo_reduction(minbo, wf, game_id):\n",
    "    filtered_df = wf[wf['bgg_id'] == game_id]\n",
    "    visitors = filtered_df['Username'].unique()\n",
    "    filtered_df = wf[wf['Username'].isin(visitors)]\n",
    "    count_table = filtered_df['bgg_id'].value_counts().reset_index()\n",
    "    count_table.columns = ['bgg_id', 'count']\n",
    "    # print(count_table['count'].describe())\n",
    "    if ((count_table['count'].describe().iloc[6]) < minbo):\n",
    "        print(f'minbo to large. new mibo set to {count_table[\"count\"].describe().iloc[6]}')\n",
    "        minbo = (count_table[\"count\"].describe().iloc[6])\n",
    "    count_table=count_table.loc[count_table['count']>=minbo,'bgg_id']\n",
    "    return(count_table)"
   ]
  },
  {
   "cell_type": "code",
   "execution_count": 451,
   "metadata": {},
   "outputs": [],
   "source": [
    "keep_users = set(\n",
    "    (\n",
    "        (rating_df.groupby(\n",
    "            'Username'\n",
    "        )[['bgg_id']].count()\n",
    "        ).loc[(\n",
    "            rating_df.groupby(\n",
    "                'Username'\n",
    "            )[['bgg_id']].count()\n",
    "        )['bgg_id']>12].reset_index()\n",
    "    )['Username']\n",
    ")"
   ]
  },
  {
   "cell_type": "code",
   "execution_count": 452,
   "metadata": {},
   "outputs": [],
   "source": [
    "redu_rating = rating_df.loc[rating_df['Username'].isin(keep_users)]"
   ]
  },
  {
   "cell_type": "code",
   "execution_count": 453,
   "metadata": {},
   "outputs": [],
   "source": [
    "red_game = games_df.drop(columns=(['min_age', 'min_time']))\n",
    "\n",
    "#Remove Multiple Wargames\n",
    "drop_war = list(red_game.filter(regex='War').columns)\n",
    "drop_war.remove('War Game')\n",
    "red_game.drop(columns=(drop_war), inplace=True)\n",
    "\n",
    "#Remove multiple Worker Placement\n",
    "drop_worker = list(red_game.filter(regex='Worker').columns)\n",
    "drop_worker.remove('Worker Placement')\n",
    "red_game.drop(columns=(drop_worker), inplace=True)\n",
    "\n",
    "#Remove multiple Dice\n",
    "drop_dice = list(red_game.filter(regex='Dice').columns)\n",
    "drop_dice.remove('Dice')\n",
    "red_game.drop(columns=(drop_dice), inplace=True)\n",
    "\n",
    "#Remove multiple Card\n",
    "drop_card = list(red_game.filter(regex='Card').columns)\n",
    "drop_card.remove('Card Game')\n",
    "red_game.drop(columns=(drop_card), inplace=True)\n",
    "\n",
    "#Remove multiple Animal\n",
    "drop_animal = list(red_game.filter(regex='Animal').columns)\n",
    "drop_animal.remove('Animals')\n",
    "red_game.drop(columns=(drop_animal), inplace=True)\n",
    "\n",
    "\n",
    "# red_game.columns[75:]\n",
    "# list(red_game.filter(regex='Village').columns)"
   ]
  },
  {
   "cell_type": "markdown",
   "metadata": {},
   "source": [
    "#### Scaling Columns"
   ]
  },
  {
   "cell_type": "code",
   "execution_count": 454,
   "metadata": {},
   "outputs": [],
   "source": [
    "red_game.set_index('bgg_id',inplace=True)\n",
    "# red_game.head(1)"
   ]
  },
  {
   "cell_type": "code",
   "execution_count": 455,
   "metadata": {},
   "outputs": [
    {
     "name": "stdout",
     "output_type": "stream",
     "text": [
      "Scaled Dataset Using MinMaxScaler\n"
     ]
    }
   ],
   "source": [
    "import seaborn as sns\n",
    "from sklearn.preprocessing import MinMaxScaler\n",
    "import pandas as pd\n",
    "\n",
    "scaler = MinMaxScaler()\n",
    "for col in red_game.columns:\n",
    "    colly = red_game.loc[:, col].values.reshape(-1, 1)\n",
    "    red_game.loc[:, col] = scaler.fit_transform(colly)\n",
    "\n",
    "# Print the scaled DataFrame\n",
    "print(\"Scaled Dataset Using MinMaxScaler\")\n",
    "red_game['avg_rating'] = red_game['avg_rating']#*2\n",
    "red_game['complexity']  =   red_game['complexity']# *2\n",
    "# red_game"
   ]
  },
  {
   "cell_type": "code",
   "execution_count": 456,
   "metadata": {},
   "outputs": [],
   "source": [
    "red_game.reset_index(inplace=True)"
   ]
  },
  {
   "cell_type": "code",
   "execution_count": 457,
   "metadata": {},
   "outputs": [],
   "source": [
    "red_game=red_game.dropna(axis='columns')"
   ]
  },
  {
   "cell_type": "code",
   "execution_count": 458,
   "metadata": {},
   "outputs": [],
   "source": [
    "## Prep Prediciton\n",
    "def weight_game(user='ecoboardgeek123', wd=rating_df):\n",
    "    wd = wd.loc[wd['Username']==user]\n",
    "    mean_rating = wd['Rating'].mean()\n",
    "    wd['Rating']=wd['Rating']-mean_rating\n",
    "    result_dict = wd.set_index('bgg_id')['Rating'].to_dict()\n",
    "    return(result_dict)\n",
    "\n",
    "test_user = weight_game()"
   ]
  },
  {
   "cell_type": "code",
   "execution_count": 459,
   "metadata": {},
   "outputs": [],
   "source": [
    "import pandas as pd\n",
    "import numpy as np\n",
    "from sklearn.metrics.pairwise import cosine_similarity\n",
    "\n",
    "def similar_games(games_df=red_game, alt=10, bgg_ids_with_weights={}):\n",
    "    # Get the attributes of the specified games in the input list\n",
    "    selected_games_attributes = games_df[games_df['bgg_id'].isin(bgg_ids_with_weights.keys())].iloc[:, 2:]\n",
    "\n",
    "    if selected_games_attributes.empty:\n",
    "        print(\"No games found for the specified bgg_ids.\")\n",
    "        return pd.DataFrame()\n",
    "\n",
    "    # Calculate the similarity between all games and the specified games using cosine similarity\n",
    "    similarity_scores = (cosine_similarity(selected_games_attributes, games_df.iloc[:, 2:]))\n",
    "\n",
    "    # Apply the weights to the similarity scores\n",
    "    for bgg_id, weight in bgg_ids_with_weights.items():\n",
    "        indices = games_df[games_df['bgg_id'] == bgg_id].index\n",
    "        if len(indices) > 0:\n",
    "            index = indices[0]\n",
    "            similarity_scores[:, index] *= weight\n",
    "\n",
    "    # Sum the similarity scores across the rows\n",
    "    total_similarity_scores = (similarity_scores.mean(axis=0)\n",
    ")\n",
    "    # Add similarity scores as a new column to the DataFrame\n",
    "    games_with_similarity = games_df.assign(similarity=total_similarity_scores)\n",
    "\n",
    "    #Get rid of Games in rated Frame\n",
    "    # print('bla',games_with_similarity.loc[~games_with_similarity['bgg_id'].isin(list(bgg_ids_with_weights.keys()))])#.loc[games_with_similarity['bgg_id'].isin(list[bgg_ids_with_weights.keys()])], 'test')\n",
    "    games_with_similarity=games_with_similarity.loc[~games_with_similarity['bgg_id'].isin(list(bgg_ids_with_weights.keys()))]\n",
    "    \n",
    "    # Sort the games based on similarity scores in descending order\n",
    "    top_similar_games = games_with_similarity.sort_values('similarity', ascending=False).head(alt)\n",
    "\n",
    "    return top_similar_games[['bgg_id', 'similarity']]"
   ]
  },
  {
   "cell_type": "code",
   "execution_count": 460,
   "metadata": {},
   "outputs": [
    {
     "data": {
      "text/html": [
       "<div>\n",
       "<style scoped>\n",
       "    .dataframe tbody tr th:only-of-type {\n",
       "        vertical-align: middle;\n",
       "    }\n",
       "\n",
       "    .dataframe tbody tr th {\n",
       "        vertical-align: top;\n",
       "    }\n",
       "\n",
       "    .dataframe thead th {\n",
       "        text-align: right;\n",
       "    }\n",
       "</style>\n",
       "<table border=\"1\" class=\"dataframe\">\n",
       "  <thead>\n",
       "    <tr style=\"text-align: right;\">\n",
       "      <th></th>\n",
       "      <th>bgg_id</th>\n",
       "      <th>similarity</th>\n",
       "    </tr>\n",
       "  </thead>\n",
       "  <tbody>\n",
       "    <tr>\n",
       "      <th>20919</th>\n",
       "      <td>176565</td>\n",
       "      <td>0.268753</td>\n",
       "    </tr>\n",
       "    <tr>\n",
       "      <th>30565</th>\n",
       "      <td>298155</td>\n",
       "      <td>0.268753</td>\n",
       "    </tr>\n",
       "    <tr>\n",
       "      <th>28989</th>\n",
       "      <td>277410</td>\n",
       "      <td>0.268753</td>\n",
       "    </tr>\n",
       "    <tr>\n",
       "      <th>35547</th>\n",
       "      <td>381639</td>\n",
       "      <td>0.268753</td>\n",
       "    </tr>\n",
       "    <tr>\n",
       "      <th>28129</th>\n",
       "      <td>265980</td>\n",
       "      <td>0.268753</td>\n",
       "    </tr>\n",
       "    <tr>\n",
       "      <th>...</th>\n",
       "      <td>...</td>\n",
       "      <td>...</td>\n",
       "    </tr>\n",
       "    <tr>\n",
       "      <th>8676</th>\n",
       "      <td>19026</td>\n",
       "      <td>0.123730</td>\n",
       "    </tr>\n",
       "    <tr>\n",
       "      <th>35370</th>\n",
       "      <td>374043</td>\n",
       "      <td>0.123721</td>\n",
       "    </tr>\n",
       "    <tr>\n",
       "      <th>19636</th>\n",
       "      <td>162443</td>\n",
       "      <td>0.123712</td>\n",
       "    </tr>\n",
       "    <tr>\n",
       "      <th>20842</th>\n",
       "      <td>175763</td>\n",
       "      <td>0.123704</td>\n",
       "    </tr>\n",
       "    <tr>\n",
       "      <th>6256</th>\n",
       "      <td>10922</td>\n",
       "      <td>0.123649</td>\n",
       "    </tr>\n",
       "  </tbody>\n",
       "</table>\n",
       "<p>10000 rows × 2 columns</p>\n",
       "</div>"
      ],
      "text/plain": [
       "       bgg_id  similarity\n",
       "20919  176565    0.268753\n",
       "30565  298155    0.268753\n",
       "28989  277410    0.268753\n",
       "35547  381639    0.268753\n",
       "28129  265980    0.268753\n",
       "...       ...         ...\n",
       "8676    19026    0.123730\n",
       "35370  374043    0.123721\n",
       "19636  162443    0.123712\n",
       "20842  175763    0.123704\n",
       "6256    10922    0.123649\n",
       "\n",
       "[10000 rows x 2 columns]"
      ]
     },
     "execution_count": 460,
     "metadata": {},
     "output_type": "execute_result"
    }
   ],
   "source": [
    "similar_games(games_df=red_game, bgg_ids_with_weights=weight_game(), alt=10000)"
   ]
  }
 ],
 "metadata": {
  "kernelspec": {
   "display_name": "base",
   "language": "python",
   "name": "python3"
  },
  "language_info": {
   "codemirror_mode": {
    "name": "ipython",
    "version": 3
   },
   "file_extension": ".py",
   "mimetype": "text/x-python",
   "name": "python",
   "nbconvert_exporter": "python",
   "pygments_lexer": "ipython3",
   "version": "3.11.3"
  },
  "orig_nbformat": 4
 },
 "nbformat": 4,
 "nbformat_minor": 2
}
