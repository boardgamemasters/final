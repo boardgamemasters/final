{
 "cells": [
  {
   "cell_type": "markdown",
   "id": "96eccb1e-e105-40d2-bc99-e1f932c5aba0",
   "metadata": {},
   "source": [
    "## IMPORT LIBRARIES"
   ]
  },
  {
   "cell_type": "code",
   "execution_count": 1,
   "id": "cdae9647-570d-4d0d-af20-b7dd0f771dd4",
   "metadata": {},
   "outputs": [],
   "source": [
    "import pandas as pd\n",
    "import requests\n",
    "import json\n",
    "import fileinput\n",
    "from IPython.display import clear_output"
   ]
  },
  {
   "cell_type": "markdown",
   "id": "4628fa7c-af1a-4a99-ab74-254d52dd5e63",
   "metadata": {},
   "source": [
    "## READ JL"
   ]
  },
  {
   "cell_type": "code",
   "execution_count": 10,
   "id": "986111fb-2c68-4a6c-905d-a6a210608c96",
   "metadata": {},
   "outputs": [
    {
     "name": "stdout",
     "output_type": "stream",
     "text": [
      "CPU times: total: 3.61 s\n",
      "Wall time: 4.85 s\n"
     ]
    }
   ],
   "source": [
    "%%time\n",
    "file_path = 'bgg_GameItem.jl'\n",
    "\n",
    "# Initialize empty lists to store data\n",
    "bgg_id = []\n",
    "name = []\n",
    "description = []\n",
    "complexity = []\n",
    "image_url = []\n",
    "url = []\n",
    "video_url = []\n",
    "min_age = []\n",
    "min_time = []\n",
    "max_time = []\n",
    "avg_rating = []\n",
    "stddev_rating = []\n",
    "rank = []\n",
    "num_votes = []\n",
    "year = []\n",
    "min_players = []\n",
    "max_players = []\n",
    "\n",
    "# Read the .jl file line by line and extract data from JSON objects\n",
    "with open(file_path, 'r') as f:\n",
    "    for line in f:\n",
    "        # Load each line as a JSON object and store it in variable 'd'\n",
    "        d = json.loads(line)\n",
    "        \n",
    "        # Extract data from the JSON object and append to respective lists\n",
    "        bgg_id.append(d['bgg_id'])\n",
    "        name.append(d['name'])\n",
    "        year.append(d.get('year', [None]))\n",
    "        description.append(d.get('description', [None]))\n",
    "        min_age.append(d.get('min_age', [None]))\n",
    "        min_time.append(d.get('min_time', [None]))\n",
    "        max_time.append(d.get('max_time', [None]))\n",
    "        min_players.append(d.get('min_players', [None]))\n",
    "        max_players.append(d.get('max_players', [None]))\n",
    "        complexity.append(d.get('complexity', [None]))  # If 'complexity' key not present, set default value to 0\n",
    "        avg_rating.append(d.get('avg_rating', [None]))\n",
    "        num_votes.append(d.get('num_votes', [None]))\n",
    "        stddev_rating.append(d.get('stddev_rating', [None]))\n",
    "        rank.append(d.get('rank', [None]))\n",
    "        image_url.append(d.get('image_url',[None])[0])  # If 'image_url' key not present, set default value to 'None' and take the first element of the list\n",
    "        url.append(d.get('url'))  # If 'url' key not present, set default value to 'No Url'\n",
    "        video_url.append(d.get('video_url',[None])[0])  # If 'video_url' key not present, set default value to 'None' and take the first element of the list\n",
    "\n",
    "# Create a DataFrame from the collected data using the zip function\n",
    "df = pd.DataFrame(zip(bgg_id, name, year, description, min_age, min_time, max_time, min_players, max_players, \n",
    "                      complexity, avg_rating, num_votes, stddev_rating, rank, image_url, url, video_url), \n",
    "                      columns=['bgg_id', 'name', 'year', 'description', 'min_age', 'min_time', 'max_time', 'min_players', \n",
    "                               'max_players', 'complexity', 'avg_rating', 'num_votes', 'stddev_rating', 'rank', 'image_url', \n",
    "                               'url', 'video_url'])"
   ]
  },
  {
   "cell_type": "markdown",
   "id": "b20856c0-ab1e-4073-a8f6-445e6eeb21c7",
   "metadata": {},
   "source": [
    "## EXPORT"
   ]
  },
  {
   "cell_type": "code",
   "execution_count": 13,
   "id": "84e33776-0208-424d-bfb3-f43f323d314c",
   "metadata": {},
   "outputs": [],
   "source": [
    "df.replace('[None]', None, inplace=True)"
   ]
  },
  {
   "cell_type": "code",
   "execution_count": 14,
   "id": "ccfeeb2a-45fe-48bc-afaf-4ca9d1ff0c2c",
   "metadata": {},
   "outputs": [],
   "source": [
    "df.to_csv(\"bgames_v1.1.csv\", index = False)"
   ]
  }
 ],
 "metadata": {
  "kernelspec": {
   "display_name": "Python 3 (ipykernel)",
   "language": "python",
   "name": "python3"
  },
  "language_info": {
   "codemirror_mode": {
    "name": "ipython",
    "version": 3
   },
   "file_extension": ".py",
   "mimetype": "text/x-python",
   "name": "python",
   "nbconvert_exporter": "python",
   "pygments_lexer": "ipython3",
   "version": "3.11.3"
  }
 },
 "nbformat": 4,
 "nbformat_minor": 5
}
