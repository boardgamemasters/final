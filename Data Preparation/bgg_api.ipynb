{
 "cells": [
  {
   "cell_type": "markdown",
   "id": "b51a2e20-ba13-41f4-91b3-61dc449b347e",
   "metadata": {},
   "source": [
    "# DATA RETRIEVAL WITH BGG API FOR IMAGES, DESCRIPTIONS & PRICES"
   ]
  },
  {
   "cell_type": "markdown",
   "id": "d82cf7ea-ce73-4faa-bd12-abb0d2ea758d",
   "metadata": {},
   "source": [
    "## IMPORT LIBRARIES"
   ]
  },
  {
   "cell_type": "code",
   "execution_count": 1,
   "id": "4b8c4306-c7fb-428e-8045-8aaa46fa7725",
   "metadata": {},
   "outputs": [],
   "source": [
    "import pandas as pd\n",
    "import requests\n",
    "import xmltodict\n",
    "import random\n",
    "import json\n",
    "from IPython.display import clear_output\n",
    "from xml.etree import ElementTree"
   ]
  },
  {
   "cell_type": "markdown",
   "id": "318d4517-0e68-446a-88fe-28b5f861a736",
   "metadata": {},
   "source": [
    "## Functions"
   ]
  },
  {
   "cell_type": "code",
   "execution_count": 2,
   "id": "fb3af594-9f54-4033-bcbe-a7ff8141a3f9",
   "metadata": {},
   "outputs": [],
   "source": [
    "def extract_euro_data(data):\n",
    "    # Initialize empty lists to store items with prices in different currencies\n",
    "    euro_data = []  # For items with price in euros\n",
    "    \n",
    "    try:\n",
    "        # Iterate through each item in the provided data list\n",
    "        for item in data:\n",
    "            # Check if the item's currency is 'EUR'\n",
    "            if item['price']['@currency'] == 'EUR':\n",
    "                # If the currency is 'EUR', add the item to the euro_data list\n",
    "                euro_data.append(item)\n",
    "    except TypeError:\n",
    "        # This part handles the case when the 'data' itself is a single item, not a list of items\n",
    "        # Check if the item's currency is 'EUR'\n",
    "        if data['price']['@currency'] == 'EUR':\n",
    "            # If the currency is 'EUR', assign the single item to the euro_data list\n",
    "            euro_data = data\n",
    "    \n",
    "    if not euro_data:\n",
    "        # If there are no items with price in euros, return 0\n",
    "        return 0\n",
    "    \n",
    "    # Return the list of items with price in euros\n",
    "    return euro_data"
   ]
  },
  {
   "cell_type": "code",
   "execution_count": 3,
   "id": "d259d3d2-ef1d-4f18-ae1c-005c8eab3d94",
   "metadata": {},
   "outputs": [],
   "source": [
    "def get_data_bgg(sample):\n",
    "    # Initialize empty lists to store the extracted data\n",
    "    wait_time = 0.3  # A wait time in seconds between API requests (not used in this code)\n",
    "    bgg_id = []  # List to store board game IDs\n",
    "    image = []  # List to store board game images\n",
    "    description = []  # List to store board game descriptions\n",
    "    geekersprice = []  # List to store the most recent Geekers price of the board game\n",
    "    currency = []  # List to store the currency of the most recent Geekers price\n",
    "    listdate = []  # List to store the most recent list date of the board game\n",
    "    link = []  # List to store the link of the most recent Geekers price listing\n",
    "    a = 0  # Counter for tracking the progress while processing the board game IDs\n",
    "\n",
    "    # Loop through each board game ID in the sample list\n",
    "    for s in sample:\n",
    "        clear_output(wait=True)  # Clear the output display to show the current progress\n",
    "        print(a)  # Print the current progress (counter value)\n",
    "        a += 1  # Increment the counter\n",
    "\n",
    "        # Send a GET request to the specified URL to retrieve data in XML format\n",
    "        response = requests.get(f'https://boardgamegeek.com/xmlapi/boardgame/{s}?marketplace=1')\n",
    "        # Parse the XML response into a Python dictionary using xmltodict library\n",
    "        # process_namespaces=True is set to process any XML namespaces if present\n",
    "        dict_data = xmltodict.parse(response.content, process_namespaces=True)\n",
    "        # Decode the response content from bytes to a UTF-8 string\n",
    "        decoded_response = response.content.decode('utf-8')\n",
    "        # Convert the decoded XML response into a JSON string and then parse it back into a Python dictionary\n",
    "        # This step is mainly done to ensure compatibility and consistency when working with the data further\n",
    "        response_json = json.loads(json.dumps(xmltodict.parse(decoded_response)))\n",
    "\n",
    "        # Extract relevant data from the response and append it to the respective lists\n",
    "        try:\n",
    "            bgg_id.append(response_json['boardgames']['boardgame']['@objectid'])\n",
    "            description.append(response_json['boardgames']['boardgame']['description'])\n",
    "            image.append(response_json['boardgames']['boardgame']['image'])\n",
    "        except KeyError:\n",
    "            continue\n",
    "\n",
    "        try:\n",
    "            # Extract the most recent Euro data using the extract_euro_data function\n",
    "            euro_data = extract_euro_data(response_json['boardgames']['boardgame']['marketplacelistings']['listing'])\n",
    "            try:\n",
    "                if euro_data != 0:  # If euro_data is not zero (i.e., there's Euro currency data available)\n",
    "                    most_recent_listdate = max(euro_data, key=lambda x: x['listdate'])\n",
    "                    geekersprice.append(most_recent_listdate.get('price').get(\"#text\"))\n",
    "                    currency.append(most_recent_listdate.get('price').get('@currency'))\n",
    "                    listdate.append(most_recent_listdate.get('listdate'))\n",
    "                    link.append(most_recent_listdate.get('link').get('@href'))\n",
    "                else:  # If euro_data is zero (no Euro currency data available)\n",
    "                    geekersprice.append(0.00)\n",
    "                    currency.append('EUR')\n",
    "                    listdate.append('')\n",
    "                    link.append('')\n",
    "            except TypeError:\n",
    "                # Handle the case when there is only one listing, and extract_euro_data returns a dictionary\n",
    "                most_recent_listdate = euro_data\n",
    "                geekersprice.append(most_recent_listdate.get(\"#text\"))\n",
    "                currency.append(most_recent_listdate.get('price').get('@currency'))\n",
    "                listdate.append(most_recent_listdate.get('price').get('listdate'))\n",
    "                link.append(most_recent_listdate.get('link').get('@href'))\n",
    "        except KeyError:\n",
    "            # Handle the case when there is no marketplace data for the board game\n",
    "            geekersprice.append(0.00)\n",
    "            currency.append('EUR')\n",
    "            listdate.append('')\n",
    "            link.append('')\n",
    "\n",
    "        # Create a pandas DataFrame using the extracted data\n",
    "        df = pd.DataFrame(zip(bgg_id, image, description, geekersprice, currency, listdate, link))\n",
    "\n",
    "    # Return the DataFrame containing the extracted data for all board game IDs\n",
    "    return df"
   ]
  },
  {
   "cell_type": "markdown",
   "id": "f946698d-48e7-4dbb-9f49-b627a7953676",
   "metadata": {
    "tags": []
   },
   "source": [
    "## Identify missing values"
   ]
  },
  {
   "cell_type": "code",
   "execution_count": 4,
   "id": "f32efd36-04c1-4e13-a633-bca8bf9b732e",
   "metadata": {},
   "outputs": [],
   "source": [
    "# Reads CSV File with games\n",
    "bgames = pd.read_csv(r'DB/DB/bgames_v1.csv', low_memory=False)"
   ]
  },
  {
   "cell_type": "code",
   "execution_count": 5,
   "id": "1b1ffcf8-fc6a-4c2b-a240-d709cd32cba7",
   "metadata": {},
   "outputs": [],
   "source": [
    "# Identifies null values and creates a list called no_image that contains the ID of those games\n",
    "no_image = list(bgames.loc[bgames.image.notnull()==False, 'bgg_id'])"
   ]
  },
  {
   "cell_type": "code",
   "execution_count": 6,
   "id": "3c9f11e4-f74d-49c0-8ea2-5f379507d2b0",
   "metadata": {},
   "outputs": [],
   "source": [
    "# Creates a random sample\n",
    "sample = random.sample(no_image,10)"
   ]
  },
  {
   "cell_type": "markdown",
   "id": "53d38b7b-c4b2-40b3-9a4f-a12e8a9f5726",
   "metadata": {},
   "source": [
    "## API"
   ]
  },
  {
   "cell_type": "code",
   "execution_count": 7,
   "id": "a9fe9175-14bf-45ed-882a-300e1b7868e2",
   "metadata": {},
   "outputs": [
    {
     "data": {
      "text/plain": [
       "4956"
      ]
     },
     "execution_count": 7,
     "metadata": {},
     "output_type": "execute_result"
    }
   ],
   "source": [
    "round(len(no_image)/10)"
   ]
  },
  {
   "cell_type": "code",
   "execution_count": 8,
   "id": "99a26547-0dfe-4346-a5ad-dc41f8f43d99",
   "metadata": {},
   "outputs": [],
   "source": [
    "df_5000=get_data_bgg(no_image[:5000])\n",
    "df_5000.to_csv(\"DB/DB/df_5000.csv\", index = False)"
   ]
  },
  {
   "cell_type": "code",
   "execution_count": 9,
   "id": "a00bd11d-dda2-49f5-a03c-e450c10e746f",
   "metadata": {},
   "outputs": [],
   "source": [
    "df_10000=get_data_bgg(no_image[5000:10000])\n",
    "df_10000.to_csv(\"DB/DB/df_10000.csv\", index = False)"
   ]
  },
  {
   "cell_type": "code",
   "execution_count": 10,
   "id": "26d432ed-d59e-43b0-87bc-1db5007d8723",
   "metadata": {},
   "outputs": [
    {
     "name": "stdout",
     "output_type": "stream",
     "text": [
      "4999\n"
     ]
    }
   ],
   "source": [
    "df_15000=get_data_bgg(no_image[10000:15000])\n",
    "df_15000.to_csv(\"DB/DB/df_15000.csv\", index = False)"
   ]
  },
  {
   "cell_type": "code",
   "execution_count": 10,
   "id": "daba3ff8-f21d-4cc8-93b8-35f244c02217",
   "metadata": {},
   "outputs": [
    {
     "name": "stdout",
     "output_type": "stream",
     "text": [
      "4999\n"
     ]
    }
   ],
   "source": [
    "df_20000=get_data_bgg(no_image[15000:20000])\n",
    "df_20000.to_csv(\"DB/DB/df_20000.csv\", index = False)"
   ]
  },
  {
   "cell_type": "code",
   "execution_count": 11,
   "id": "8f2b7bcc-f3d8-4f0c-b171-8bad5370906d",
   "metadata": {},
   "outputs": [
    {
     "name": "stdout",
     "output_type": "stream",
     "text": [
      "4999\n"
     ]
    }
   ],
   "source": [
    "df_25000=get_data_bgg(no_image[20000:25000])\n",
    "df_25000.to_csv(\"DB/DB/df_25000.csv\", index = False)"
   ]
  },
  {
   "cell_type": "code",
   "execution_count": 12,
   "id": "3e1ceabf-b0a7-40f8-bc40-cedcf5394e94",
   "metadata": {},
   "outputs": [
    {
     "name": "stdout",
     "output_type": "stream",
     "text": [
      "4999\n"
     ]
    }
   ],
   "source": [
    "df_30000=get_data_bgg(no_image[25000:30000])\n",
    "df_30000.to_csv(\"DB/DB/df_30000.csv\", index = False)"
   ]
  },
  {
   "cell_type": "code",
   "execution_count": 13,
   "id": "8f35e139-f5f2-4df4-b4fd-1f586a90de87",
   "metadata": {},
   "outputs": [
    {
     "name": "stdout",
     "output_type": "stream",
     "text": [
      "4999\n"
     ]
    }
   ],
   "source": [
    "df_35000=get_data_bgg(no_image[30000:35000])\n",
    "df_35000.to_csv(\"DB/DB/df_35000.csv\", index = False)"
   ]
  },
  {
   "cell_type": "code",
   "execution_count": 14,
   "id": "91f4c1cc-043c-40ab-b226-327eff316960",
   "metadata": {},
   "outputs": [
    {
     "name": "stdout",
     "output_type": "stream",
     "text": [
      "4999\n"
     ]
    }
   ],
   "source": [
    "df_40000=get_data_bgg(no_image[35000:40000])\n",
    "df_40000.to_csv(\"DB/DB/df_40000.csv\", index = False)"
   ]
  },
  {
   "cell_type": "code",
   "execution_count": 15,
   "id": "8d5d8caa-6561-49e9-9589-57d863b1e763",
   "metadata": {},
   "outputs": [
    {
     "name": "stdout",
     "output_type": "stream",
     "text": [
      "9561\n"
     ]
    }
   ],
   "source": [
    "df_45000=get_data_bgg(no_image[40000:45000])\n",
    "df_45000.to_csv(\"DB/DB/df_45000.csv\", index = False)"
   ]
  },
  {
   "cell_type": "code",
   "execution_count": null,
   "id": "41482811-6667-4da4-aaac-f0a9a12d0fee",
   "metadata": {},
   "outputs": [],
   "source": [
    "df_50000=get_data_bgg(no_image[45000:50000])\n",
    "df_50000.to_csv(\"DB/DB/df_50000.csv\", index = False)"
   ]
  }
 ],
 "metadata": {
  "kernelspec": {
   "display_name": "Python 3 (ipykernel)",
   "language": "python",
   "name": "python3"
  },
  "language_info": {
   "codemirror_mode": {
    "name": "ipython",
    "version": 3
   },
   "file_extension": ".py",
   "mimetype": "text/x-python",
   "name": "python",
   "nbconvert_exporter": "python",
   "pygments_lexer": "ipython3",
   "version": "3.11.3"
  }
 },
 "nbformat": 4,
 "nbformat_minor": 5
}
