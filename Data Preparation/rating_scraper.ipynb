{
 "cells": [
  {
   "cell_type": "code",
   "execution_count": 1,
   "metadata": {},
   "outputs": [],
   "source": [
    "import pandas as pd\n",
    "import requests\n",
    "from lxml import etree\n",
    "import time"
   ]
  },
  {
   "cell_type": "code",
   "execution_count": 2,
   "metadata": {},
   "outputs": [],
   "source": [
    "ids_to_scrape = pd.read_csv(\"../data/custom/no_rat_id.csv\")"
   ]
  },
  {
   "cell_type": "code",
   "execution_count": 19,
   "metadata": {},
   "outputs": [],
   "source": [
    "### Gathering all Ratings for a single Game\n",
    "def get_rating(game_id = 391565):\n",
    "    soup_url = f\"https://api.geekdo.com/xmlapi2/thing?id={game_id}&ratingcomments=1\"\n",
    "\n",
    "    response = requests.get(soup_url)\n",
    "    if response.status_code != 200:                         # Handle Errors\n",
    "        if response.status_code == 429:                     # Handle (To many Requests) - Error\n",
    "            a=.5                                            # Define Sleeptime\n",
    "            while response.status_code == 429:\n",
    "                time.sleep(a)                               # Pause Execution for a seconds\n",
    "                a =a+.1                                     # Prolong Sleep-Time\n",
    "                response = requests.get(soup_url)\n",
    "                if (response.status_code != 200) & (response.status_code != 429):   # Handle other Errors\n",
    "                    raise Exception(f\"Error retrieving data. Status code: {response.status_code} | While looking for game with id {game_id}\")\n",
    "        else:                                               # Handle other Errors\n",
    "            raise Exception(f\"Error retrieving data. Status code: {response.status_code} | While looking for game with id {game_id}\")\n",
    "\n",
    "    xml_content = response.content\n",
    "    xml_tree = etree.fromstring(xml_content)                # Preparing Response for Feature-Extraction\n",
    "\n",
    "    comments = xml_tree.xpath(\"//comment\")                  # Selecting Features\n",
    "    comments_dict = {}                                      # Creating empty Results-Dictionary\n",
    "\n",
    "    for comment in comments:                                        # Looping through all Ratings\n",
    "        username = comment.get(\"username\")                          # Getting Username\n",
    "        rating = comment.get(\"rating\")                              # Getting Rating\n",
    "        comments_dict.setdefault(\"Username\", []).append(username)   # Adding Username to Dictionary\n",
    "        comments_dict.setdefault(\"Rating\", []).append(rating)       # Adding Rating to Dictionary   \n",
    "        comments_dict.setdefault(\"BGGId\", []).append(game_id)       # Adding BGGId to Dictionary\n",
    "\n",
    "\n",
    "    df = pd.DataFrame(comments_dict)                        # Converting Dictionary into Pandas-DataFrame\n",
    "    return(df)                                              # Returning Dataframe\n"
   ]
  },
  {
   "cell_type": "code",
   "execution_count": 20,
   "metadata": {},
   "outputs": [],
   "source": [
    "a=0                                                                                                 # Initiate Counter\n",
    "Rating_frame = pd.DataFrame(columns=['Username', 'Rating','BGGId'])                                 # Preparing Rating-DataFrame\n",
    "\n",
    "for ID_game in ids_to_scrape['bgg_id']:                                                             # Initiating Loop\n",
    "    a+=1                                                                                            # Counting Loops\n",
    "    Rating_frame = pd.concat([Rating_frame, get_rating(game_id = ID_game)], ignore_index=True)      # Adding aquired Ratings to Rating-DataFrame\n",
    "    if a == 20:                                                                                     # Condition for Backup-Creation\n",
    "        a = 0                                                                                       # Resetting Counter\n",
    "        Rating_frame.to_csv(\"../data/custom/extra_ratings.csv\", index=False)                        # Creating a local Backup of the Rating-DataFrame"
   ]
  }
 ],
 "metadata": {
  "kernelspec": {
   "display_name": "Python 3",
   "language": "python",
   "name": "python3"
  },
  "language_info": {
   "codemirror_mode": {
    "name": "ipython",
    "version": 3
   },
   "file_extension": ".py",
   "mimetype": "text/x-python",
   "name": "python",
   "nbconvert_exporter": "python",
   "pygments_lexer": "ipython3",
   "version": "3.11.3"
  },
  "orig_nbformat": 4
 },
 "nbformat": 4,
 "nbformat_minor": 2
}
