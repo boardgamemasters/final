{
 "cells": [
  {
   "cell_type": "markdown",
   "id": "638b302a-cafe-49f9-ab38-bd60e414be70",
   "metadata": {},
   "source": [
    "# DATA RETRIEVAL WITH BGP API FOR PRICES & LINKS"
   ]
  },
  {
   "cell_type": "code",
   "execution_count": null,
   "id": "3844ce7f-3d22-4ed1-8b84-cf3614fbb80c",
   "metadata": {},
   "outputs": [],
   "source": [
    "import pandas as pd\n",
    "import requests\n",
    "import json\n",
    "from IPython.display import clear_output"
   ]
  },
  {
   "cell_type": "markdown",
   "id": "a414592f-4f78-49e3-abb7-37d049e25efa",
   "metadata": {},
   "source": [
    "## LIST OF IDs"
   ]
  },
  {
   "cell_type": "code",
   "execution_count": null,
   "id": "d196a8bd-96c7-4af5-91bc-13a3f9359598",
   "metadata": {},
   "outputs": [],
   "source": [
    "# Reads CSV File with games\n",
    "bgames = pd.read_csv(r'DB/DB/bgames_v1.csv', low_memory=False)"
   ]
  },
  {
   "cell_type": "code",
   "execution_count": null,
   "id": "1110ded2-35b7-47ce-9277-56da0f12ecd4",
   "metadata": {},
   "outputs": [],
   "source": [
    "list_g = list(bgames.bgg_id)\n",
    "total = len(list_g)"
   ]
  },
  {
   "cell_type": "markdown",
   "id": "2b74e31e-2896-46e0-81aa-fbead51f6cef",
   "metadata": {},
   "source": [
    "## API"
   ]
  },
  {
   "cell_type": "code",
   "execution_count": null,
   "id": "97461008-ef0e-472c-a849-053996c13335",
   "metadata": {},
   "outputs": [],
   "source": [
    "def get_prices(lista):\n",
    "    # Initialize lists to store data for each game\n",
    "    bgg_id = []         # List to store BoardGameGeek IDs\n",
    "    link = []           # List to store links to the game prices\n",
    "    price_total = []    # List to store the total prices\n",
    "    a = 0               # Counter variable to track the progress\n",
    "    \n",
    "    # Loop through each item in the input list\n",
    "    for l in lista:\n",
    "        clear_output(wait=True)     # Clear the output display to show the current progress\n",
    "        print(a)                    # Print the current progress (counter value)\n",
    "        a += 1                      # Increment the counter\n",
    "        \n",
    "        try:\n",
    "            # Make an API request to get game information from 'BoardGamePrices.co.uk'\n",
    "            response = requests.get(f'https://BoardGamePrices.co.uk/api/info?eid={l}&currency=EUR&destination=DE&delivery=PACKAGE,POSTOFFICE&sort=SMART&sitename=boardgameprices.co.uk&locale=en').json()\n",
    "            # Append data to respective lists\n",
    "            bgg_id.append(response['items'][0].get('external_id'))\n",
    "            link.append(response['items'][0]['prices'][0]['link'])\n",
    "            price_total.append(response['items'][0]['prices'][0]['price'])\n",
    "        except IndexError:\n",
    "            # If an IndexError occurs (for example, when 'items' or 'prices' keys are not present), skip to the next item in the loop\n",
    "            continue\n",
    "            \n",
    "    # Create a DataFrame with the collected data and zip lists together\n",
    "    df = pd.DataFrame(zip(bgg_id, link, price_total)) \n",
    "    \n",
    "    return df"
   ]
  },
  {
   "cell_type": "code",
   "execution_count": null,
   "id": "84aa2cbb-f164-42ed-9fed-2de259e3314d",
   "metadata": {},
   "outputs": [],
   "source": [
    "bgprice_70000=get_prices(list_g[0:total])\n",
    "bgprice_70000.to_csv(\"DB/DB/bgprices.csv\", index = False)"
   ]
  }
 ],
 "metadata": {
  "kernelspec": {
   "display_name": "Python 3 (ipykernel)",
   "language": "python",
   "name": "python3"
  },
  "language_info": {
   "codemirror_mode": {
    "name": "ipython",
    "version": 3
   },
   "file_extension": ".py",
   "mimetype": "text/x-python",
   "name": "python",
   "nbconvert_exporter": "python",
   "pygments_lexer": "ipython3",
   "version": "3.11.3"
  }
 },
 "nbformat": 4,
 "nbformat_minor": 5
}
